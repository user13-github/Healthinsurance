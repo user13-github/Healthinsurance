{
  "cells": [
    {
      "cell_type": "code",
      "execution_count": 2,
      "metadata": {
        "id": "-3bQuKa4mwZz"
      },
      "outputs": [],
      "source": [
        "import pandas as pd\n",
        "from sklearn.model_selection import train_test_split\n",
        "from sklearn.ensemble import RandomForestClassifier\n",
        "from sklearn.metrics import accuracy_score, classification_report, confusion_matrix\n",
        "from sklearn.impute import SimpleImputer\n",
        "from sklearn.preprocessing import StandardScaler\n",
        "from sklearn.compose import ColumnTransformer\n",
        "from sklearn.pipeline import Pipeline\n",
        "from sklearn.decomposition import PCA\n",
        "import seaborn as sns\n",
        "import matplotlib.pyplot as plt"
      ]
    },
    {
      "cell_type": "code",
      "execution_count": 3,
      "metadata": {
        "id": "H92wnZfznL0q"
      },
      "outputs": [],
      "source": [
        "#load dataset\n",
        "df = pd.read_csv('/content/Clean_dataset.csv')"
      ]
    },
    {
      "cell_type": "code",
      "execution_count": 4,
      "metadata": {
        "id": "U1kXschhq9Yr"
      },
      "outputs": [],
      "source": [
        "# Define features and target for anxiety analysis\n",
        "anxiety_features = [\n",
        "    'GenHealth', 'MentalHealth', 'ExerAny2', 'HaveArthritis3', 'AdDepressionEver2'\n",
        "]"
      ]
    },
    {
      "cell_type": "code",
      "source": [
        "anxiety_target_variable = 'HaveAnxiety'\n",
        "\n",
        "# Create a new dataframe with relevant columns for anxiety analysis\n",
        "selected_data_anxiety = df[anxiety_features].copy()\n",
        "\n",
        "# Create a new column 'HaveAnxiety' based on conditions\n",
        "selected_data_anxiety['HaveAnxiety'] = 0  # Initialize to 0\n",
        "selected_data_anxiety.loc[\n",
        "    (selected_data_anxiety['GenHealth'] == 'Good') |\n",
        "    (selected_data_anxiety['MentalHealth'] == 'Good') |\n",
        "    (selected_data_anxiety['ExerAny2'] == 'Yes') |\n",
        "    (selected_data_anxiety['HaveArthritis3'] == 'Yes') |\n",
        "    (selected_data_anxiety['AdDepressionEver2'] == 1),\n",
        "    'HaveAnxiety'\n",
        "] = 1"
      ],
      "metadata": {
        "id": "1L62FZD46qwe"
      },
      "execution_count": 6,
      "outputs": []
    },
    {
      "cell_type": "code",
      "execution_count": 7,
      "metadata": {
        "id": "I5aFHgLVrCgP"
      },
      "outputs": [],
      "source": [
        "# Assuming 'HaveAnxiety' is the target column for anxiety analysis\n",
        "anxiety_target = selected_data_anxiety[anxiety_target_variable]\n"
      ]
    },
    {
      "cell_type": "code",
      "execution_count": 9,
      "metadata": {
        "id": "LGJJqxDX1qwK"
      },
      "outputs": [],
      "source": [
        "import numpy as np\n",
        "\n",
        "# Identify numeric and non-numeric columns for anxiety analysis\n",
        "anxiety_numeric_features = df[anxiety_features].select_dtypes(include=np.number).columns\n",
        "anxiety_non_numeric_features = df[anxiety_features].select_dtypes(exclude=np.number).columns\n"
      ]
    },
    {
      "cell_type": "code",
      "execution_count": 10,
      "metadata": {
        "id": "88TjsEzUtEmY"
      },
      "outputs": [],
      "source": [
        "# Handle missing values and scaling for anxiety analysis\n",
        "anxiety_numeric_transformer = Pipeline(steps=[\n",
        "    ('imputer', SimpleImputer(strategy='mean')),\n",
        "    ('scaler', StandardScaler())\n",
        "])"
      ]
    },
    {
      "cell_type": "code",
      "execution_count": 11,
      "metadata": {
        "id": "Uje9c2gcuDVR"
      },
      "outputs": [],
      "source": [
        "anxiety_preprocessor = ColumnTransformer(\n",
        "    transformers=[\n",
        "        ('num', anxiety_numeric_transformer, anxiety_numeric_features),\n",
        "        ('non_num', 'drop', anxiety_non_numeric_features)\n",
        "    ]\n",
        ")\n"
      ]
    },
    {
      "cell_type": "code",
      "execution_count": 12,
      "metadata": {
        "id": "Ma2xsofZ3SHM"
      },
      "outputs": [],
      "source": [
        "# Transform the anxiety features\n",
        "anxiety_features_scaled = anxiety_preprocessor.fit_transform(df[anxiety_features])\n"
      ]
    },
    {
      "cell_type": "code",
      "execution_count": 13,
      "metadata": {
        "id": "7ZkiKfPXugo8"
      },
      "outputs": [],
      "source": [
        "# Split the data into training and testing sets for anxiety analysis\n",
        "X_train_anxiety, X_test_anxiety, y_train_anxiety, y_test_anxiety = train_test_split(\n",
        "    anxiety_features_scaled, anxiety_target, test_size=0.2, random_state=42\n",
        ")"
      ]
    },
    {
      "cell_type": "code",
      "execution_count": 14,
      "metadata": {
        "id": "Zt0fjdmrtPfh",
        "colab": {
          "base_uri": "https://localhost:8080/",
          "height": 74
        },
        "outputId": "02ea3426-e862-4512-8750-17f3dc42373a"
      },
      "outputs": [
        {
          "output_type": "execute_result",
          "data": {
            "text/plain": [
              "RandomForestClassifier(random_state=42)"
            ],
            "text/html": [
              "<style>#sk-container-id-1 {color: black;background-color: white;}#sk-container-id-1 pre{padding: 0;}#sk-container-id-1 div.sk-toggleable {background-color: white;}#sk-container-id-1 label.sk-toggleable__label {cursor: pointer;display: block;width: 100%;margin-bottom: 0;padding: 0.3em;box-sizing: border-box;text-align: center;}#sk-container-id-1 label.sk-toggleable__label-arrow:before {content: \"▸\";float: left;margin-right: 0.25em;color: #696969;}#sk-container-id-1 label.sk-toggleable__label-arrow:hover:before {color: black;}#sk-container-id-1 div.sk-estimator:hover label.sk-toggleable__label-arrow:before {color: black;}#sk-container-id-1 div.sk-toggleable__content {max-height: 0;max-width: 0;overflow: hidden;text-align: left;background-color: #f0f8ff;}#sk-container-id-1 div.sk-toggleable__content pre {margin: 0.2em;color: black;border-radius: 0.25em;background-color: #f0f8ff;}#sk-container-id-1 input.sk-toggleable__control:checked~div.sk-toggleable__content {max-height: 200px;max-width: 100%;overflow: auto;}#sk-container-id-1 input.sk-toggleable__control:checked~label.sk-toggleable__label-arrow:before {content: \"▾\";}#sk-container-id-1 div.sk-estimator input.sk-toggleable__control:checked~label.sk-toggleable__label {background-color: #d4ebff;}#sk-container-id-1 div.sk-label input.sk-toggleable__control:checked~label.sk-toggleable__label {background-color: #d4ebff;}#sk-container-id-1 input.sk-hidden--visually {border: 0;clip: rect(1px 1px 1px 1px);clip: rect(1px, 1px, 1px, 1px);height: 1px;margin: -1px;overflow: hidden;padding: 0;position: absolute;width: 1px;}#sk-container-id-1 div.sk-estimator {font-family: monospace;background-color: #f0f8ff;border: 1px dotted black;border-radius: 0.25em;box-sizing: border-box;margin-bottom: 0.5em;}#sk-container-id-1 div.sk-estimator:hover {background-color: #d4ebff;}#sk-container-id-1 div.sk-parallel-item::after {content: \"\";width: 100%;border-bottom: 1px solid gray;flex-grow: 1;}#sk-container-id-1 div.sk-label:hover label.sk-toggleable__label {background-color: #d4ebff;}#sk-container-id-1 div.sk-serial::before {content: \"\";position: absolute;border-left: 1px solid gray;box-sizing: border-box;top: 0;bottom: 0;left: 50%;z-index: 0;}#sk-container-id-1 div.sk-serial {display: flex;flex-direction: column;align-items: center;background-color: white;padding-right: 0.2em;padding-left: 0.2em;position: relative;}#sk-container-id-1 div.sk-item {position: relative;z-index: 1;}#sk-container-id-1 div.sk-parallel {display: flex;align-items: stretch;justify-content: center;background-color: white;position: relative;}#sk-container-id-1 div.sk-item::before, #sk-container-id-1 div.sk-parallel-item::before {content: \"\";position: absolute;border-left: 1px solid gray;box-sizing: border-box;top: 0;bottom: 0;left: 50%;z-index: -1;}#sk-container-id-1 div.sk-parallel-item {display: flex;flex-direction: column;z-index: 1;position: relative;background-color: white;}#sk-container-id-1 div.sk-parallel-item:first-child::after {align-self: flex-end;width: 50%;}#sk-container-id-1 div.sk-parallel-item:last-child::after {align-self: flex-start;width: 50%;}#sk-container-id-1 div.sk-parallel-item:only-child::after {width: 0;}#sk-container-id-1 div.sk-dashed-wrapped {border: 1px dashed gray;margin: 0 0.4em 0.5em 0.4em;box-sizing: border-box;padding-bottom: 0.4em;background-color: white;}#sk-container-id-1 div.sk-label label {font-family: monospace;font-weight: bold;display: inline-block;line-height: 1.2em;}#sk-container-id-1 div.sk-label-container {text-align: center;}#sk-container-id-1 div.sk-container {/* jupyter's `normalize.less` sets `[hidden] { display: none; }` but bootstrap.min.css set `[hidden] { display: none !important; }` so we also need the `!important` here to be able to override the default hidden behavior on the sphinx rendered scikit-learn.org. See: https://github.com/scikit-learn/scikit-learn/issues/21755 */display: inline-block !important;position: relative;}#sk-container-id-1 div.sk-text-repr-fallback {display: none;}</style><div id=\"sk-container-id-1\" class=\"sk-top-container\"><div class=\"sk-text-repr-fallback\"><pre>RandomForestClassifier(random_state=42)</pre><b>In a Jupyter environment, please rerun this cell to show the HTML representation or trust the notebook. <br />On GitHub, the HTML representation is unable to render, please try loading this page with nbviewer.org.</b></div><div class=\"sk-container\" hidden><div class=\"sk-item\"><div class=\"sk-estimator sk-toggleable\"><input class=\"sk-toggleable__control sk-hidden--visually\" id=\"sk-estimator-id-1\" type=\"checkbox\" checked><label for=\"sk-estimator-id-1\" class=\"sk-toggleable__label sk-toggleable__label-arrow\">RandomForestClassifier</label><div class=\"sk-toggleable__content\"><pre>RandomForestClassifier(random_state=42)</pre></div></div></div></div></div>"
            ]
          },
          "metadata": {},
          "execution_count": 14
        }
      ],
      "source": [
        "# Train a RandomForestClassifier for anxiety analysis\n",
        "model_anxiety = RandomForestClassifier(random_state=42)\n",
        "model_anxiety.fit(X_train_anxiety, y_train_anxiety)\n"
      ]
    },
    {
      "cell_type": "code",
      "execution_count": 15,
      "metadata": {
        "id": "J4TCOMEWtb3P"
      },
      "outputs": [],
      "source": [
        "# Make predictions on the test set for anxiety analysis\n",
        "y_pred_anxiety = model_anxiety.predict(X_test_anxiety)"
      ]
    },
    {
      "cell_type": "code",
      "execution_count": 16,
      "metadata": {
        "id": "SYKKo0YkteEe",
        "colab": {
          "base_uri": "https://localhost:8080/"
        },
        "outputId": "f6f1dbcc-29d3-4c8a-de7f-aad9a29e76b0"
      },
      "outputs": [
        {
          "output_type": "stream",
          "name": "stderr",
          "text": [
            "/usr/local/lib/python3.10/dist-packages/sklearn/metrics/_classification.py:1344: UndefinedMetricWarning: Precision and F-score are ill-defined and being set to 0.0 in labels with no predicted samples. Use `zero_division` parameter to control this behavior.\n",
            "  _warn_prf(average, modifier, msg_start, len(result))\n",
            "/usr/local/lib/python3.10/dist-packages/sklearn/metrics/_classification.py:1344: UndefinedMetricWarning: Precision and F-score are ill-defined and being set to 0.0 in labels with no predicted samples. Use `zero_division` parameter to control this behavior.\n",
            "  _warn_prf(average, modifier, msg_start, len(result))\n",
            "/usr/local/lib/python3.10/dist-packages/sklearn/metrics/_classification.py:1344: UndefinedMetricWarning: Precision and F-score are ill-defined and being set to 0.0 in labels with no predicted samples. Use `zero_division` parameter to control this behavior.\n",
            "  _warn_prf(average, modifier, msg_start, len(result))\n"
          ]
        }
      ],
      "source": [
        "# Evaluate the model for anxiety analysis\n",
        "accuracy_anxiety = accuracy_score(y_test_anxiety, y_pred_anxiety)\n",
        "report_anxiety = classification_report(y_test_anxiety, y_pred_anxiety)\n",
        "conf_matrix_anxiety = confusion_matrix(y_test_anxiety, y_pred_anxiety)\n"
      ]
    },
    {
      "cell_type": "code",
      "execution_count": 17,
      "metadata": {
        "id": "kMu7R0dYtzEY",
        "colab": {
          "base_uri": "https://localhost:8080/"
        },
        "outputId": "df3ddac4-d8f5-4367-b211-f0e1dd9f5b4d"
      },
      "outputs": [
        {
          "output_type": "stream",
          "name": "stdout",
          "text": [
            "Accuracy for Anxiety Analysis: 0.8843719040182695\n",
            "\n",
            "Classification Report for Anxiety Analysis:\n",
            "               precision    recall  f1-score   support\n",
            "\n",
            "           0       0.00      0.00      0.00      6886\n",
            "           1       0.88      1.00      0.94     52667\n",
            "\n",
            "    accuracy                           0.88     59553\n",
            "   macro avg       0.44      0.50      0.47     59553\n",
            "weighted avg       0.78      0.88      0.83     59553\n",
            "\n",
            "\n",
            "Confusion Matrix for Anxiety Analysis:\n",
            " [[    0  6886]\n",
            " [    0 52667]]\n"
          ]
        }
      ],
      "source": [
        "print(f\"Accuracy for Anxiety Analysis: {accuracy_anxiety}\")\n",
        "print(\"\\nClassification Report for Anxiety Analysis:\\n\", report_anxiety)\n",
        "print(\"\\nConfusion Matrix for Anxiety Analysis:\\n\", conf_matrix_anxiety)\n"
      ]
    },
    {
      "cell_type": "code",
      "source": [
        "from imblearn.over_sampling import SMOTE\n",
        "from sklearn.model_selection import train_test_split\n",
        "\n",
        "# Assuming X_train, X_test, y_train, y_test are your original data split\n",
        "smote = SMOTE(random_state=42)\n",
        "X_train_resampled, y_train_resampled = smote.fit_resample(X_train_anxiety, y_train_anxiety)\n",
        "\n",
        "# Now, use X_train_resampled and y_train_resampled for training\n"
      ],
      "metadata": {
        "id": "yY4l58388Y9e"
      },
      "execution_count": 25,
      "outputs": []
    },
    {
      "cell_type": "code",
      "source": [
        "from sklearn.model_selection import GridSearchCV\n",
        "\n",
        "# Assuming you have a RandomForestClassifier\n",
        "param_grid = {\n",
        "    'n_estimators': [50, 100, 200],\n",
        "    'max_depth': [None, 10, 20],\n",
        "    'min_samples_split': [2, 5, 10]\n",
        "}\n",
        "\n",
        "grid_search = GridSearchCV(RandomForestClassifier(random_state=42), param_grid, cv=5)\n",
        "grid_search.fit(X_train_resampled, y_train_resampled)\n",
        "\n",
        "# Get the best parameters\n",
        "best_params = grid_search.best_params_\n",
        "print(\"Best Hyperparameters:\", best_params)\n"
      ],
      "metadata": {
        "colab": {
          "base_uri": "https://localhost:8080/"
        },
        "id": "5UDmJ0zK82P7",
        "outputId": "81baced9-af83-4ef8-8b1a-6b3708501ee7"
      },
      "execution_count": 26,
      "outputs": [
        {
          "output_type": "stream",
          "name": "stdout",
          "text": [
            "Best Hyperparameters: {'max_depth': None, 'min_samples_split': 2, 'n_estimators': 50}\n"
          ]
        }
      ]
    },
    {
      "cell_type": "code",
      "source": [
        "from sklearn.model_selection import cross_val_score\n",
        "\n",
        "# we have a trained model (RandomForestClassifier)\n",
        "cv_scores = cross_val_score(model_anxiety, X_train_resampled, y_train_resampled, cv=5)\n",
        "print(\"Cross-Validation Scores:\", cv_scores)\n",
        "print(\"Mean CV Accuracy:\", np.mean(cv_scores))\n"
      ],
      "metadata": {
        "colab": {
          "base_uri": "https://localhost:8080/"
        },
        "id": "jWG0A26H9EA5",
        "outputId": "8cfe1a49-5fd4-408b-ad03-24d4552ac854"
      },
      "execution_count": 29,
      "outputs": [
        {
          "output_type": "stream",
          "name": "stdout",
          "text": [
            "Cross-Validation Scores: [0.51675374 0.51664688 0.51904536 0.51719921 0.5159762 ]\n",
            "Mean CV Accuracy: 0.5171242773104054\n"
          ]
        }
      ]
    },
    {
      "cell_type": "code",
      "execution_count": 30,
      "metadata": {
        "id": "olhF3pJzt4dq"
      },
      "outputs": [],
      "source": [
        "\n",
        "# Visualize class separability using PCA for anxiety analysis\n",
        "pca_anxiety = PCA(n_components=min(anxiety_features_scaled.shape[0], anxiety_features_scaled.shape[1]))\n",
        "features_pca_anxiety = pca_anxiety.fit_transform(anxiety_features_scaled)\n",
        "\n"
      ]
    },
    {
      "cell_type": "code",
      "source": [
        "# Create a DataFrame with the reduced features and target for visualization\n",
        "features_pca_df_anxiety = pd.DataFrame(features_pca_anxiety, columns=[f'PC{i}' for i in range(1, features_pca_anxiety.shape[1] + 1)])\n",
        "features_pca_df_anxiety['Target'] = anxiety_target.values"
      ],
      "metadata": {
        "id": "f2PxOvZa45Vn"
      },
      "execution_count": 31,
      "outputs": []
    },
    {
      "cell_type": "code",
      "source": [
        "# Visualize class separability using a scatter plot for anxiety analysis\n",
        "plt.figure(figsize=(10, 8))\n",
        "sns.scatterplot(x='PC1', y='PC1', hue='Target', data=features_pca_df_anxiety, palette='viridis')\n",
        "plt.title('Class Separability for Anxiety Analysis - PCA')\n",
        "plt.xlabel('Principal Component 1 (PC1)')\n",
        "plt.ylabel('Principal Component 1 (PC1)')\n",
        "plt.show()\n"
      ],
      "metadata": {
        "colab": {
          "base_uri": "https://localhost:8080/",
          "height": 718
        },
        "id": "RIcNwxMk49Pc",
        "outputId": "c0027cb9-cf2e-481c-8deb-fd6ca2e115f2"
      },
      "execution_count": 36,
      "outputs": [
        {
          "output_type": "display_data",
          "data": {
            "text/plain": [
              "<Figure size 1000x800 with 1 Axes>"
            ],
            "image/png": "[encoded data removed]"
          },
          "metadata": {}
        }
      ]
    },
    {
      "cell_type": "code",
      "execution_count": 37,
      "metadata": {
        "colab": {
          "base_uri": "https://localhost:8080/"
        },
        "id": "D8aiLwiM4eOK",
        "outputId": "85b699bf-a5a5-44ff-fe5e-08887da342b7"
      },
      "outputs": [
        {
          "output_type": "stream",
          "name": "stdout",
          "text": [
            "Requirement already satisfied: flask in /usr/local/lib/python3.10/dist-packages (2.2.5)\n",
            "Requirement already satisfied: Werkzeug>=2.2.2 in /usr/local/lib/python3.10/dist-packages (from flask) (3.0.1)\n",
            "Requirement already satisfied: Jinja2>=3.0 in /usr/local/lib/python3.10/dist-packages (from flask) (3.1.2)\n",
            "Requirement already satisfied: itsdangerous>=2.0 in /usr/local/lib/python3.10/dist-packages (from flask) (2.1.2)\n",
            "Requirement already satisfied: click>=8.0 in /usr/local/lib/python3.10/dist-packages (from flask) (8.1.7)\n",
            "Requirement already satisfied: MarkupSafe>=2.0 in /usr/local/lib/python3.10/dist-packages (from Jinja2>=3.0->flask) (2.1.3)\n"
          ]
        }
      ],
      "source": [
        "pip install flask"
      ]
    },
    {
      "cell_type": "code",
      "execution_count": 38,
      "metadata": {
        "colab": {
          "base_uri": "https://localhost:8080/"
        },
        "id": "c6E3J9HE5bwy",
        "outputId": "c38c29f8-f93d-4123-c6a3-6775240c9d15"
      },
      "outputs": [
        {
          "output_type": "stream",
          "name": "stdout",
          "text": [
            "Requirement already satisfied: joblib in /usr/local/lib/python3.10/dist-packages (1.3.2)\n"
          ]
        }
      ],
      "source": [
        "pip install joblib"
      ]
    },
    {
      "cell_type": "code",
      "execution_count": 39,
      "metadata": {
        "id": "b3VHn8Ic4h8p"
      },
      "outputs": [],
      "source": [
        "from flask import Flask, request, jsonify\n",
        "import joblib\n",
        "from sklearn.preprocessing import LabelEncoder"
      ]
    },
    {
      "cell_type": "code",
      "execution_count": null,
      "metadata": {
        "id": "LZ6S0rC15mmU"
      },
      "outputs": [],
      "source": [
        "app = Flask(__name__)"
      ]
    },
    {
      "cell_type": "code",
      "execution_count": 40,
      "metadata": {
        "colab": {
          "base_uri": "https://localhost:8080/"
        },
        "id": "tSukgD5M5wbe",
        "outputId": "cec19acb-b8a9-4de9-d3b8-9900a34021be"
      },
      "outputs": [
        {
          "output_type": "execute_result",
          "data": {
            "text/plain": [
              "['model_anxiety.pkl']"
            ]
          },
          "metadata": {},
          "execution_count": 40
        }
      ],
      "source": [
        "#'model' is the name of anxiety prediction model\n",
        "joblib.dump(model_anxiety, 'model_anxiety.pkl')"
      ]
    },
    {
      "cell_type": "code",
      "execution_count": 42,
      "metadata": {
        "id": "14yy8nwi6QJs"
      },
      "outputs": [],
      "source": [
        "import joblib\n",
        "\n",
        "# Load the model\n",
        "loaded_model = joblib.load('model_anxiety.pkl')\n"
      ]
    },
    {
      "cell_type": "code",
      "execution_count": 45,
      "metadata": {
        "id": "EKUPSKY_7MHr",
        "colab": {
          "base_uri": "https://localhost:8080/"
        },
        "outputId": "3b023f50-55dc-44bd-c786-98a44421b34f"
      },
      "outputs": [
        {
          "output_type": "stream",
          "name": "stdout",
          "text": [
            " * Serving Flask app '__main__'\n",
            " * Debug mode: on\n"
          ]
        },
        {
          "output_type": "stream",
          "name": "stderr",
          "text": [
            "INFO:werkzeug:\u001b[31m\u001b[1mWARNING: This is a development server. Do not use it in a production deployment. Use a production WSGI server instead.\u001b[0m\n",
            " * Running on http://127.0.0.1:5000\n",
            "INFO:werkzeug:\u001b[33mPress CTRL+C to quit\u001b[0m\n",
            "INFO:werkzeug: * Restarting with stat\n"
          ]
        }
      ],
      "source": [
        "# Define a function for anxiety prediction\n",
        "def predict_anxiety(input_data):\n",
        "    try:\n",
        "        # Assuming 'GenHealth' is a relevant feature\n",
        "        input_features = input_data.get(['GenHealth', 'MentalHealth', 'ExerAny2', 'HaveArthritis3', 'AdDepressionEver2'], 0)\n",
        "\n",
        "        # Convert 'AdDepressionEver2' to binary (0 or 1)\n",
        "        input_features['AdDepressionEver2'] = input_features['AdDepressionEver2'].map({'Yes': 1, 'No': 0})\n",
        "\n",
        "        # Create a new column 'HaveAnxiety' based on conditions\n",
        "        input_features['HaveAnxiety'] = 0  # Initialize to 0\n",
        "        input_features.loc[\n",
        "            (input_features['GenHealth'] == 'Good') |\n",
        "            (input_features['MentalHealth'] == 'Good') |\n",
        "            (input_features['ExerAny2'] == 'Yes') |\n",
        "            (input_features['HaveArthritis3'] == 'Yes') |\n",
        "            (input_features['AdDepressionEver2'] == 1),\n",
        "            'HaveAnxiety'\n",
        "        ] = 1\n",
        "\n",
        "        # Convert categorical columns to numerical using one-hot encoding\n",
        "        input_features = pd.get_dummies(input_features, drop_first=True)\n",
        "\n",
        "        # Make anxiety prediction\n",
        "        anxiety_prediction = anxiety_model.predict(input_features)[0]\n",
        "\n",
        "        return anxiety_prediction\n",
        "\n",
        "    except Exception as e:\n",
        "        return str(e)\n",
        "\n",
        "if __name__ == \"__main__\":\n",
        "    app.run(debug=True)"
      ]
    }
  ],
  "metadata": {
    "colab": {
      "provenance": []
    },
    "kernelspec": {
      "display_name": "Python 3",
      "name": "python3"
    },
    "language_info": {
      "name": "python"
    }
  },
  "nbformat": 4,
  "nbformat_minor": 0
}