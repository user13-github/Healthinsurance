{
  "nbformat": 4,
  "nbformat_minor": 0,
  "metadata": {
    "colab": {
      "provenance": []
    },
    "kernelspec": {
      "name": "python3",
      "display_name": "Python 3"
    },
    "language_info": {
      "name": "python"
    }
  },
  "cells": [
    {
      "cell_type": "code",
      "execution_count": null,
      "metadata": {
        "id": "KkoFNRWBL0b8"
      },
      "outputs": [],
      "source": [
        "from flask import Flask, request, jsonify\n",
        "import joblib\n",
        "import pandas as pd\n",
        "\n",
        "app = Flask(__name__)\n",
        "\n",
        "# Load the trained anxiety model\n",
        "anxiety_model = joblib.load('model_anxiety.pkl')\n",
        "\n",
        "@app.route('/')\n",
        "def index():\n",
        "    return \"Anxiety Prediction Service\"\n",
        "\n",
        "@app.route('/predict_anxiety', methods=['POST'])\n",
        "def predict_anxiety():\n",
        "    try:\n",
        "        # Get JSON data from the request\n",
        "        input_data = request.get_json()\n",
        "\n",
        "        print(\"Input Data:\", input_data)  # Add this line for debugging\n",
        "\n",
        "        # Transform the input data using the loaded OrdinalEncoder\n",
        "        input_data_encoded = ordinal_encoder.transform([input_data])\n",
        "\n",
        "        # Make anxiety prediction\n",
        "        anxiety_prediction = anxiety_model.predict_proba(input_data_encoded)[:, 1][0]\n",
        "\n",
        "        # Return the result as JSON\n",
        "        return jsonify({\"anxiety_prediction\": anxiety_prediction})\n",
        "\n",
        "    except Exception as e:\n",
        "        return jsonify({\"error\": str(e)}), 500\n",
        "\n",
        "if __name__ == '__main__':\n",
        "    app.run(debug=True)\n"
      ]
    }
  ]
}